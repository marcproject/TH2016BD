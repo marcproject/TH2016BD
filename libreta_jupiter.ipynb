{
  "cells": [
    {
      "cell_type": "markdown",
      "metadata": {
        "id": "view-in-github",
        "colab_type": "text"
      },
      "source": [
        "<a href=\"https://colab.research.google.com/github/marcproject/TH2016BD/blob/master/libreta_jupiter.ipynb\" target=\"_parent\"><img src=\"https://colab.research.google.com/assets/colab-badge.svg\" alt=\"Open In Colab\"/></a>"
      ]
    },
    {
      "cell_type": "code",
      "source": [
        "!sudo apt-get update"
      ],
      "metadata": {
        "id": "mL5HaodYg9S0"
      },
      "execution_count": null,
      "outputs": []
    },
    {
      "cell_type": "code",
      "source": [
        "import pandas as pd\n",
        "\n",
        "df_mapillary = pd.read_csv('df_mapillary.csv')\n",
        "df_mapillary.head()"
      ],
      "metadata": {
        "id": "sAErNKj5hunT"
      },
      "execution_count": null,
      "outputs": []
    },
    {
      "cell_type": "code",
      "source": [
        "# prompt: create a db from df_mapillary\n",
        "\n",
        "import sqlite3\n",
        "\n",
        "conn = sqlite3.connect('mapillary.db')\n",
        "df_mapillary.to_sql('mapillary_data', conn, if_exists='replace', index=False)\n",
        "\n",
        "conn.close()\n",
        "print(\"Database created successfully!\")\n"
      ],
      "metadata": {
        "id": "9gpk0GvLjfqb"
      },
      "execution_count": null,
      "outputs": []
    },
    {
      "cell_type": "code",
      "source": [
        "# prompt: create a db from df_mapillary\n",
        "\n",
        "import sqlite3\n",
        "\n",
        "df_puerto = pd.read_csv('df_concat_4.csv')\n",
        "\n",
        "conn = sqlite3.connect('puerto_vallarta_cp.db')\n",
        "df_puerto.to_sql('puerto_vallarta', conn, if_exists='replace', index=False)\n",
        "\n",
        "conn.close()\n",
        "print(\"Database created successfully!\")\n"
      ],
      "metadata": {
        "id": "N8ov8GDmkKai"
      },
      "execution_count": null,
      "outputs": []
    }
  ],
  "metadata": {
    "colab": {
      "private_outputs": true,
      "provenance": [],
      "include_colab_link": true
    },
    "kernelspec": {
      "display_name": "Python 3",
      "name": "python3"
    },
    "language_info": {
      "name": "python"
    }
  },
  "nbformat": 4,
  "nbformat_minor": 0
}